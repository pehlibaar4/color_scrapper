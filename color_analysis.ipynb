{
 "cells": [
  {
   "cell_type": "code",
   "execution_count": 1,
   "metadata": {},
   "outputs": [],
   "source": [
    "import math\n",
    "from PIL import Image, ImageStat\n",
    "import random\n",
    "import csv"
   ]
  },
  {
   "cell_type": "code",
   "execution_count": 2,
   "metadata": {},
   "outputs": [],
   "source": [
    "image_file = r\"E:\\docs\\Canva_Colors\\assets\\pexels-1.jpg\"\n",
    "color_file = r\"E:\\docs\\Canva_Colors\\Canva_pallettes.csv\""
   ]
  },
  {
   "cell_type": "code",
   "execution_count": 3,
   "metadata": {},
   "outputs": [],
   "source": [
    "def image_brightness( image_file ):\n",
    "   \"\"\"https://stackoverflow.com/questions/3490727/what-are-some-methods-to-analyze-image-brightness-using-python\"\"\"\n",
    "   im = Image.open(image_file)\n",
    "   stat = ImageStat.Stat(im)\n",
    "   r,g,b = stat.mean\n",
    "   image_brightness =  math.sqrt(0.241*(r**2) + 0.691*(g**2) + 0.068*(b**2))\n",
    "   brightness_percentage = round((image_brightness / 255) * 100)\n",
    "   return brightness_percentage"
   ]
  },
  {
   "cell_type": "code",
   "execution_count": 4,
   "metadata": {},
   "outputs": [],
   "source": [
    "def hex_to_RGB(hex):\n",
    "    hex = hex.lstrip('#')\n",
    "    RGB_value = tuple(int(hex[i:i+2], 16) for i in (0, 2, 4))\n",
    "    return RGB_value"
   ]
  },
  {
   "cell_type": "code",
   "execution_count": 5,
   "metadata": {},
   "outputs": [],
   "source": [
    "# Luminance calculation\n",
    "def color_brightness(color_RGB):\n",
    "    R, G, B = color_RGB[0], color_RGB[1], color_RGB[2]\n",
    "    luminance = round((0.2126 * R) + (0.7152 * G) + (0.0722 * B))\n",
    "    color_brightness = round((luminance / 255) * 100)   # percentage\n",
    "    return color_brightness\n"
   ]
  },
  {
   "cell_type": "code",
   "execution_count": 6,
   "metadata": {},
   "outputs": [],
   "source": [
    "def choose_random(list):\n",
    "    random.shuffle(list)\n",
    "    item = random.choice(list)\n",
    "    return item"
   ]
  },
  {
   "cell_type": "code",
   "execution_count": null,
   "metadata": {},
   "outputs": [],
   "source": [
    "# RGB to HEX\n",
    "def RGB_to_HEX(color_RGB):\n",
    "    color_HEX = \"#%02x%02x%02x\" % color_RGB\n",
    "    return color_HEX "
   ]
  },
  {
   "cell_type": "code",
   "execution_count": 7,
   "metadata": {},
   "outputs": [],
   "source": [
    "color_list = []\n",
    "with open(color_file, \"r\") as csv_file:\n",
    "    csv_reader = csv.reader(csv_file)\n",
    "\n",
    "    for row in csv_reader:\n",
    "        color_string = [row[0], row[1], row[2], row[3]]\n",
    "        color_list.append(color_string)\n",
    "        # print(color_string)"
   ]
  },
  {
   "cell_type": "code",
   "execution_count": 8,
   "metadata": {},
   "outputs": [
    {
     "data": {
      "text/plain": [
       "36"
      ]
     },
     "execution_count": 8,
     "metadata": {},
     "output_type": "execute_result"
    }
   ],
   "source": [
    "image_brightness = image_brightness( image_file )\n",
    "image_brightness"
   ]
  },
  {
   "cell_type": "code",
   "execution_count": 9,
   "metadata": {},
   "outputs": [
    {
     "data": {
      "text/plain": [
       "['#948c80', '#632f30', '#d01110', '#a2d3e9']"
      ]
     },
     "execution_count": 9,
     "metadata": {},
     "output_type": "execute_result"
    }
   ],
   "source": [
    "random_pallette = choose_random(color_list)\n",
    "random_pallette"
   ]
  },
  {
   "cell_type": "code",
   "execution_count": 10,
   "metadata": {},
   "outputs": [
    {
     "data": {
      "text/plain": [
       "'#d01110'"
      ]
     },
     "execution_count": 10,
     "metadata": {},
     "output_type": "execute_result"
    }
   ],
   "source": [
    "random_color = choose_random(random_pallette)\n",
    "\n",
    "random_color"
   ]
  },
  {
   "cell_type": "code",
   "execution_count": 11,
   "metadata": {},
   "outputs": [
    {
     "data": {
      "text/plain": [
       "(208, 17, 16)"
      ]
     },
     "execution_count": 11,
     "metadata": {},
     "output_type": "execute_result"
    }
   ],
   "source": [
    "color_RGB = hex_to_RGB(random_color)\n",
    "color_RGB"
   ]
  },
  {
   "cell_type": "code",
   "execution_count": 12,
   "metadata": {},
   "outputs": [
    {
     "data": {
      "text/plain": [
       "23"
      ]
     },
     "execution_count": 12,
     "metadata": {},
     "output_type": "execute_result"
    }
   ],
   "source": [
    "color_brightness = color_brightness(color_RGB)\n",
    "color_brightness"
   ]
  },
  {
   "cell_type": "code",
   "execution_count": null,
   "metadata": {},
   "outputs": [],
   "source": [
    "def find_color(image_brightness, pallette_list):\n",
    "    random_pallette = choose_random(pallette_list)\n",
    "\n",
    "    if image_brightness >= 0 and image_brightness <= 25:\n",
    "        random_color = choose_random(random_pallette)\n",
    "        \n",
    "        pass\n",
    "    if image_brightness >= 26 and image_brightness <= 50:\n",
    "        pass\n",
    "    if image_brightness >= 51 and image_brightness <= 75:\n",
    "        pass\n",
    "    if image_brightness >= 75 and image_brightness <= 100:\n",
    "        pass"
   ]
  },
  {
   "cell_type": "code",
   "execution_count": 13,
   "metadata": {},
   "outputs": [],
   "source": [
    "def select_color(color_list, min_luminance_percentage=50, max_luminance_percentage=85):\n",
    "    random.shuffle(color_list)\n",
    "    color_RGB = random.choice(color_list)\n",
    "\n",
    "    # Luminance calculation\n",
    "    R, G, B = color_RGB[0], color_RGB[1], color_RGB[2]\n",
    "    luminance = round((0.2126 * R) + (0.7152 * G) + (0.0722 * B))\n",
    "    luminance_percentage = round((luminance / 255) * 100)\n",
    "\n",
    "    if (\n",
    "        luminance_percentage >= min_luminance_percentage\n",
    "        and luminance_percentage <= max_luminance_percentage\n",
    "    ):\n",
    "        color_HEX = \"#%02x%02x%02x\" % color_RGB  # RGB to HEX\n",
    "    else:\n",
    "        color_RGB, color_HEX, luminance_percentage = select_color(\n",
    "            color_file, min_luminance_percentage, max_luminance_percentage\n",
    "        )\n",
    "\n",
    "    return color_RGB, color_HEX, luminance_percentage"
   ]
  },
  {
   "cell_type": "code",
   "execution_count": null,
   "metadata": {},
   "outputs": [],
   "source": []
  }
 ],
 "metadata": {
  "kernelspec": {
   "display_name": "Python 3.8.7 ('.ccenv': venv)",
   "language": "python",
   "name": "python3"
  },
  "language_info": {
   "codemirror_mode": {
    "name": "ipython",
    "version": 3
   },
   "file_extension": ".py",
   "mimetype": "text/x-python",
   "name": "python",
   "nbconvert_exporter": "python",
   "pygments_lexer": "ipython3",
   "version": "3.8.7"
  },
  "orig_nbformat": 4,
  "vscode": {
   "interpreter": {
    "hash": "14076fabd81df75c6643c5ac03d2884b46087cdbd146da8640e355494415f0bb"
   }
  }
 },
 "nbformat": 4,
 "nbformat_minor": 2
}
