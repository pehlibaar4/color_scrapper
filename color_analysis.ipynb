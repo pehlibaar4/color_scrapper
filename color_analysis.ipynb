{
 "cells": [
  {
   "cell_type": "code",
   "execution_count": 1229,
   "metadata": {},
   "outputs": [],
   "source": [
    "import math\n",
    "from PIL import Image, ImageStat\n",
    "import random\n",
    "import csv"
   ]
  },
  {
   "cell_type": "code",
   "execution_count": 1230,
   "metadata": {},
   "outputs": [],
   "source": [
    "image_file = r\"E:\\docs\\Canva_Colors\\assets\\pexels-1.jpg\"\n",
    "color_file = r\"E:\\docs\\Canva_Colors\\Canva_pallettes.csv\""
   ]
  },
  {
   "cell_type": "code",
   "execution_count": 1231,
   "metadata": {},
   "outputs": [],
   "source": [
    "def image_brightness( image_file ):\n",
    "   \"\"\"https://stackoverflow.com/questions/3490727/what-are-some-methods-to-analyze-image-brightness-using-python\"\"\"\n",
    "   im = Image.open(image_file)\n",
    "   stat = ImageStat.Stat(im)\n",
    "   r,g,b = stat.mean\n",
    "   image_brightness =  math.sqrt(0.241*(r**2) + 0.691*(g**2) + 0.068*(b**2))\n",
    "   brightness_percentage = round((image_brightness / 255) * 100)\n",
    "   print(f\"Image Brightness: {brightness_percentage}\")\n",
    "   return brightness_percentage"
   ]
  },
  {
   "cell_type": "code",
   "execution_count": 1232,
   "metadata": {},
   "outputs": [],
   "source": [
    "def hex_to_RGB(hex):\n",
    "    hex = hex.lstrip('#')\n",
    "    RGB_value = tuple(int(hex[i:i+2], 16) for i in (0, 2, 4))\n",
    "    return RGB_value"
   ]
  },
  {
   "cell_type": "code",
   "execution_count": 1233,
   "metadata": {},
   "outputs": [],
   "source": [
    "# Luminance calculation\n",
    "def find_color_brightness(color_RGB):\n",
    "    R, G, B = color_RGB[0], color_RGB[1], color_RGB[2]\n",
    "    luminance = round((0.2126 * R) + (0.7152 * G) + (0.0722 * B))\n",
    "    color_brightness = round((luminance / 255) * 100)   # percentage\n",
    "    return color_brightness\n"
   ]
  },
  {
   "cell_type": "code",
   "execution_count": 1234,
   "metadata": {},
   "outputs": [],
   "source": [
    "def choose_random(list):\n",
    "    random.shuffle(list)\n",
    "    item = random.choice(list)\n",
    "    return item"
   ]
  },
  {
   "cell_type": "code",
   "execution_count": 1235,
   "metadata": {},
   "outputs": [],
   "source": [
    "# RGB to HEX\n",
    "def RGB_to_HEX(color_RGB):\n",
    "    color_HEX = \"#%02x%02x%02x\" % color_RGB\n",
    "    return color_HEX "
   ]
  },
  {
   "cell_type": "code",
   "execution_count": 1236,
   "metadata": {},
   "outputs": [],
   "source": [
    "def color_brightness_range( min, max, color_HEX ):\n",
    "    color_RGB = hex_to_RGB(color_HEX)\n",
    "    color_brightness = find_color_brightness(color_RGB)\n",
    "    # print(f\"Brightness: {color_brightness}\")\n",
    "    if color_brightness >= min and color_brightness <= max:\n",
    "        return True"
   ]
  },
  {
   "cell_type": "code",
   "execution_count": 1237,
   "metadata": {},
   "outputs": [],
   "source": [
    "def primary_secondary_range(image_brightness):\n",
    "    if image_brightness >= 0 and image_brightness <= 25:\n",
    "        primary_min, primary_max = 50, 75\n",
    "        secondary_min, secondary_max = 50, 100\n",
    "\n",
    "    if image_brightness >= 25 and image_brightness <= 50:\n",
    "        primary_min, primary_max = 75, 100\n",
    "        secondary_min, secondary_max = 50, 100\n",
    "\n",
    "    if image_brightness >= 50 and image_brightness <= 75:\n",
    "        primary_min, primary_max = 25, 50\n",
    "        secondary_min, secondary_max = 0, 50\n",
    "\n",
    "    if image_brightness >= 75 and image_brightness <= 100:\n",
    "        primary_min, primary_max = 25, 50\n",
    "        secondary_min, secondary_max = 0, 50\n",
    "\n",
    "    return primary_min, primary_max, secondary_min, secondary_max"
   ]
  },
  {
   "cell_type": "code",
   "execution_count": 1238,
   "metadata": {},
   "outputs": [],
   "source": [
    "def find_primary_secondary_color(image_brightness, pallette_list):\n",
    "    primary_min, primary_max, secondary_min, secondary_max = primary_secondary_range(image_brightness)\n",
    "    \n",
    "    selected_pallette = choose_random(pallette_list)\n",
    "    # print(f\"Selected Pallette: {selected_pallette}\")\n",
    "\n",
    "    primary_color = None\n",
    "    secondary_color = None\n",
    "\n",
    "    for color in selected_pallette:\n",
    "        # print(f\"For primary : {color}\")\n",
    "        if color_brightness_range(primary_min, primary_max, color):\n",
    "            primary_color = selected_pallette.pop(selected_pallette.index(color))\n",
    "            # print(f\"After primary color: {selected_pallette}\")\n",
    "\n",
    "        if primary_color:\n",
    "            for color in selected_pallette:\n",
    "                # print(f\"For secondary : {color}\")\n",
    "                if color_brightness_range(secondary_min, secondary_max, color):\n",
    "                    secondary_color = selected_pallette.pop(selected_pallette.index(color))\n",
    "                    # print(f\"After secondary color: {selected_pallette}\")\n",
    "\n",
    "                if primary_color and secondary_color:\n",
    "                    print(f\"primary_color: {primary_color}, secondary_color: {secondary_color}\")\n",
    "                    return primary_color, secondary_color\n",
    "\n",
    "    return find_primary_secondary_color(image_brightness, pallette_list)\n",
    "                        "
   ]
  },
  {
   "cell_type": "code",
   "execution_count": 1239,
   "metadata": {},
   "outputs": [],
   "source": [
    "pallette_list = []\n",
    "with open(color_file, \"r\") as csv_file:\n",
    "    csv_reader = csv.reader(csv_file)\n",
    "\n",
    "    for row in csv_reader:\n",
    "        color_string = [row[0], row[1], row[2], row[3]]\n",
    "        pallette_list.append(color_string)\n",
    "        # print(color_string)"
   ]
  },
  {
   "cell_type": "code",
   "execution_count": 1240,
   "metadata": {},
   "outputs": [
    {
     "name": "stdout",
     "output_type": "stream",
     "text": [
      "Image Brightness: 36\n"
     ]
    }
   ],
   "source": [
    "image_brightness = image_brightness( image_file )"
   ]
  },
  {
   "cell_type": "code",
   "execution_count": 1241,
   "metadata": {},
   "outputs": [
    {
     "name": "stdout",
     "output_type": "stream",
     "text": [
      "primary_color: #f4b5a0, secondary_color: #e4dacf\n"
     ]
    }
   ],
   "source": [
    "primary_color, secondary_color = find_primary_secondary_color(image_brightness, pallette_list)"
   ]
  },
  {
   "cell_type": "code",
   "execution_count": 1242,
   "metadata": {},
   "outputs": [
    {
     "data": {
      "text/plain": [
       "'#f4b5a0'"
      ]
     },
     "execution_count": 1242,
     "metadata": {},
     "output_type": "execute_result"
    }
   ],
   "source": [
    "primary_color"
   ]
  },
  {
   "cell_type": "code",
   "execution_count": 1243,
   "metadata": {},
   "outputs": [
    {
     "data": {
      "text/plain": [
       "'#e4dacf'"
      ]
     },
     "execution_count": 1243,
     "metadata": {},
     "output_type": "execute_result"
    }
   ],
   "source": [
    "secondary_color"
   ]
  }
 ],
 "metadata": {
  "kernelspec": {
   "display_name": "Python 3.8.7 ('.ccenv': venv)",
   "language": "python",
   "name": "python3"
  },
  "language_info": {
   "codemirror_mode": {
    "name": "ipython",
    "version": 3
   },
   "file_extension": ".py",
   "mimetype": "text/x-python",
   "name": "python",
   "nbconvert_exporter": "python",
   "pygments_lexer": "ipython3",
   "version": "3.8.7"
  },
  "orig_nbformat": 4,
  "vscode": {
   "interpreter": {
    "hash": "14076fabd81df75c6643c5ac03d2884b46087cdbd146da8640e355494415f0bb"
   }
  }
 },
 "nbformat": 4,
 "nbformat_minor": 2
}
